{
 "cells": [
  {
   "cell_type": "markdown",
   "metadata": {
    "id": "RnXwk1LxStBK",
    "slideshow": {
     "slide_type": "slide"
    }
   },
   "source": [
    "<div style=\"font-size:48pt; line-height:25pt; font-weight:bold; text-align:center;\"> Wind Farm Layout (Using GRN)</div>"
   ]
  },
  {
   "cell_type": "markdown",
   "metadata": {
    "id": "sWd6H-FTStBK",
    "slideshow": {
     "slide_type": "fragment"
    }
   },
   "source": [
    "D. Wilson, E. Awa, S. Cussat-Blanc, K. Veeramachaneni, and U.-M. O’Reilly. On learning to generate\n",
    "wind farm layouts. In Proc. of GECCO’13, pages 767–774. ACM, 2013."
   ]
  },
  {
   "cell_type": "markdown",
   "metadata": {
    "id": "V5MkoziZStBK",
    "slideshow": {
     "slide_type": "fragment"
    }
   },
   "source": [
    " [Introduction](#sec0)\n",
    "1. [Background in wind Farm Layout Optimization](#sec1)\n",
    "2. [Developmental approach and GRN](#sec2)\n",
    "3. [Properties of this approach](#sec3)\n",
    "\n",
    "[Conclusion](#sec4)"
   ]
  },
  {
   "cell_type": "markdown",
   "metadata": {
    "id": "qwudMVm0StBK",
    "slideshow": {
     "slide_type": "slide"
    }
   },
   "source": [
    "# <a id=\"sec1\"></a> Introduction "
   ]
  },
  {
   "cell_type": "markdown",
   "metadata": {
    "id": "u67Wppp-StBK",
    "slideshow": {
     "slide_type": "fragment"
    }
   },
   "source": [
    "<img src=\"img/WindFLO.png\" width=\"1000px\"></img>"
   ]
  },
  {
   "cell_type": "markdown",
   "metadata": {
    "id": "DBG0CA8nStBK",
    "slideshow": {
     "slide_type": "slide"
    }
   },
   "source": [
    "## The current situation "
   ]
  },
  {
   "cell_type": "markdown",
   "metadata": {
    "id": "e8Ie9xCGStBK",
    "slideshow": {
     "slide_type": "subslide"
    }
   },
   "source": [
    "Interesting optimisation for all involved parties because : \n",
    "- get the most wind power \n",
    "- improve the utilization of space \n",
    "- increase the commercial margin \n"
   ]
  },
  {
   "cell_type": "markdown",
   "metadata": {
    "id": "W2fZK-lCStBK",
    "slideshow": {
     "slide_type": "subslide"
    }
   },
   "source": [
    "Very complex problem :\n",
    "- local constraints : inter- turbine wind interference \n",
    "- global constraints : terrain peculiarities\n",
    "- An increasingly complex problem \n",
    "\n",
    "\n",
    "\n",
    "\n",
    "\n",
    "\n",
    "\n"
   ]
  },
  {
   "cell_type": "markdown",
   "metadata": {
    "id": "ne71ntaPStBK",
    "slideshow": {
     "slide_type": "slide"
    }
   },
   "source": [
    "## Why a new method?"
   ]
  },
  {
   "cell_type": "markdown",
   "metadata": {
    "id": "fdpb6euOStBK",
    "slideshow": {
     "slide_type": "subslide"
    }
   },
   "source": [
    "Some algorithms already exist ... but : \n",
    "\n",
    "- too long to execute \n",
    "- to sensitive to parameters changements \n",
    "\n",
    "$\\rightarrow$ Bottleneck in the design process \n"
   ]
  },
  {
   "cell_type": "markdown",
   "metadata": {
    "id": "9QCM4ylaStBK",
    "slideshow": {
     "slide_type": "subslide"
    }
   },
   "source": [
    "To face those new problems $\\rightarrow$ Cell based developpment \n",
    "\n",
    "Developmental models commonly used nowadays "
   ]
  },
  {
   "cell_type": "markdown",
   "metadata": {
    "id": "_Mk5vy-MStBK",
    "slideshow": {
     "slide_type": "slide"
    }
   },
   "source": [
    "## Structure of our presentation "
   ]
  },
  {
   "cell_type": "markdown",
   "metadata": {
    "id": "7N4_EIY4StBK",
    "slideshow": {
     "slide_type": "fragment"
    }
   },
   "source": [
    "- Background in wind farm layout optimization \n",
    "\n",
    "- Developmental approach and GRN \n",
    "\n",
    "- Properties of this method  "
   ]
  },
  {
   "cell_type": "markdown",
   "metadata": {
    "id": "U2uGGf_iStBK",
    "slideshow": {
     "slide_type": "slide"
    }
   },
   "source": [
    "# 1. <a id=\"sec1\"></a> Background in wind farm layout optimization"
   ]
  },
  {
   "cell_type": "markdown",
   "metadata": {
    "id": "AFRek-1AStBK",
    "slideshow": {
     "slide_type": "slide"
    }
   },
   "source": [
    "# 2. <a id=\"sec2\"></a> Developmental approach and GRN "
   ]
  },
  {
   "cell_type": "markdown",
   "metadata": {
    "id": "DIYDH3d7StBK",
    "slideshow": {
     "slide_type": "subslide"
    }
   },
   "source": [
    "## Developmental model"
   ]
  },
  {
   "cell_type": "markdown",
   "metadata": {
    "id": "OI5q1Wq1StBK",
    "slideshow": {
     "slide_type": "fragment"
    }
   },
   "source": [
    "<img src=\"img/dvp-model.png\" width=\"600px\"></img>"
   ]
  },
  {
   "cell_type": "markdown",
   "metadata": {
    "id": "dVeCgqsCStBK",
    "slideshow": {
     "slide_type": "subslide"
    }
   },
   "source": [
    "8 inputs: wind <br>\n",
    "1 action"
   ]
  },
  {
   "cell_type": "markdown",
   "metadata": {
    "id": "vssOCsgLStBK",
    "slideshow": {
     "slide_type": "fragment"
    }
   },
   "source": [
    "Actions:\n",
    "- divide\n",
    "- reorient clockwise\n",
    "- reorient counterclockwise\n",
    "- wait\n",
    "- kill itself"
   ]
  },
  {
   "cell_type": "markdown",
   "metadata": {
    "id": "9EqUqiLuStBL",
    "slideshow": {
     "slide_type": "slide"
    }
   },
   "source": [
    "## Site Model:"
   ]
  },
  {
   "cell_type": "markdown",
   "metadata": {
    "id": "jLiNwX9bStBL",
    "slideshow": {
     "slide_type": "fragment"
    }
   },
   "source": [
    "2D map, flat terrain, discetized matrix + wind distribution in 24 directions"
   ]
  },
  {
   "cell_type": "markdown",
   "metadata": {
    "id": "AZmPhJ9mStBL",
    "slideshow": {
     "slide_type": "slide"
    }
   },
   "source": [
    "## Interturbine Interference Model:"
   ]
  },
  {
   "cell_type": "markdown",
   "metadata": {
    "id": "Xpn2MC6fStBL",
    "slideshow": {
     "slide_type": "fragment"
    }
   },
   "source": [
    "Objective function to evaluate: expected value of the energy captured\n",
    "<img src=\"img/nrj.png\" width=\"700px\"></img>"
   ]
  },
  {
   "cell_type": "markdown",
   "metadata": {
    "id": "QUgSl06uStBL",
    "slideshow": {
     "slide_type": "slide"
    }
   },
   "source": [
    "## GRN: cell's controller"
   ]
  },
  {
   "cell_type": "markdown",
   "metadata": {
    "id": "hmDixYABStBL",
    "slideshow": {
     "slide_type": "fragment"
    }
   },
   "source": [
    "GRN: Gene regulatory Network <br>\n",
    "$\\rightarrow$ living organisms"
   ]
  },
  {
   "cell_type": "markdown",
   "metadata": {
    "id": "omdZ3wj8StBL",
    "slideshow": {
     "slide_type": "fragment"
    }
   },
   "source": [
    "Set of proteins with different properties:\n",
    "- identifier (id)\n",
    "- enhancer identifier (enh)\n",
    "- inhibitor identifier (inh)\n",
    "- type (input, outpout, regulatory)"
   ]
  },
  {
   "cell_type": "markdown",
   "metadata": {
    "id": "JOJvAj4EStBL",
    "slideshow": {
     "slide_type": "subslide"
    }
   },
   "source": [
    "Affinity of a protein a with a protein b: enhancing factor and inhibiting factor\n",
    "<img src=\"img/uab.png\" width=\"700px\"></img>"
   ]
  },
  {
   "cell_type": "markdown",
   "metadata": {
    "id": "umcWcWq8StBL",
    "slideshow": {
     "slide_type": "subslide"
    }
   },
   "source": [
    "For each protein: enhancing value and inhibiting value\n",
    "<img src=\"img/gh.png\" width=\"700px\"></img>"
   ]
  },
  {
   "cell_type": "markdown",
   "metadata": {
    "id": "9co8jI81StBL",
    "slideshow": {
     "slide_type": "subslide"
    }
   },
   "source": [
    "<img src=\"img/GRN-graph.png\" width=\"900px\"></img>"
   ]
  },
  {
   "cell_type": "markdown",
   "metadata": {
    "id": "Ybe6GTHzStBL",
    "slideshow": {
     "slide_type": "subslide"
    }
   },
   "source": [
    "Protein concentration:\n",
    "<img src=\"img/concentration.png\" width=\"300px\"></img>"
   ]
  },
  {
   "cell_type": "markdown",
   "metadata": {
    "id": "udTZsCVpStBL",
    "slideshow": {
     "slide_type": "subslide"
    }
   },
   "source": [
    "input protein: current state of the environment <br>\n",
    "output protein: 1 action, highest concentration"
   ]
  },
  {
   "cell_type": "markdown",
   "metadata": {
    "slideshow": {
     "slide_type": "slide"
    }
   },
   "source": [
    "## Optimisation"
   ]
  },
  {
   "cell_type": "markdown",
   "metadata": {
    "slideshow": {
     "slide_type": "fragment"
    }
   },
   "source": [
    "Genetic Algo $\\rightarrow$ optimize the network of proteins and its dynamics"
   ]
  },
  {
   "cell_type": "markdown",
   "metadata": {
    "slideshow": {
     "slide_type": "fragment"
    }
   },
   "source": [
    "GRN genome contains 2 chromosomes:\n",
    "- 1 network of proteins\n",
    "- 1 param optim"
   ]
  },
  {
   "cell_type": "markdown",
   "metadata": {
    "slideshow": {
     "slide_type": "subslide"
    }
   },
   "source": [
    "<img src=\"img/ga.png\" width=\"900px\"></img>"
   ]
  },
  {
   "cell_type": "markdown",
   "metadata": {
    "slideshow": {
     "slide_type": "subslide"
    }
   },
   "source": [
    "Crossover: Exchanging subparts of 2 networks <br><br>\n",
    "Mutation: 3 ways\n",
    "- random change of 1 int in a protein\n",
    "- adding new protein\n",
    "- removing one protein"
   ]
  },
  {
   "cell_type": "markdown",
   "metadata": {
    "slideshow": {
     "slide_type": "subslide"
    }
   },
   "source": [
    "<img src=\"img/paramsGA.png\" width=\"900px\"></img>"
   ]
  },
  {
   "cell_type": "markdown",
   "metadata": {
    "slideshow": {
     "slide_type": "subslide"
    }
   },
   "source": [
    "fitness = simplified economical simulation of the wind farm"
   ]
  },
  {
   "cell_type": "markdown",
   "metadata": {
    "slideshow": {
     "slide_type": "fragment"
    }
   },
   "source": [
    "Gain function:\n",
    "<img src=\"img/C.png\" width=\"900px\"></img>"
   ]
  },
  {
   "cell_type": "markdown",
   "metadata": {
    "slideshow": {
     "slide_type": "slide"
    }
   },
   "source": [
    "## Code example: GRN"
   ]
  },
  {
   "cell_type": "code",
   "execution_count": 3,
   "metadata": {
    "slideshow": {
     "slide_type": "subslide"
    }
   },
   "outputs": [],
   "source": [
    "import math\n",
    "import numpy as np\n",
    "import matplotlib.pyplot as plt\n",
    "%matplotlib inline\n",
    "\n",
    "from pygrn import grns"
   ]
  },
  {
   "cell_type": "code",
   "execution_count": 4,
   "metadata": {
    "slideshow": {
     "slide_type": "subslide"
    }
   },
   "outputs": [],
   "source": [
    "mygrn = grns.ClassicGRN()"
   ]
  },
  {
   "cell_type": "code",
   "execution_count": 5,
   "metadata": {
    "slideshow": {
     "slide_type": "fragment"
    }
   },
   "outputs": [
    {
     "data": {
      "text/plain": [
       "<pygrn.grns.classic.ClassicGRN at 0x7f54cc1dc790>"
      ]
     },
     "execution_count": 5,
     "metadata": {},
     "output_type": "execute_result"
    }
   ],
   "source": [
    "mygrn.random(8, 5, 15)"
   ]
  },
  {
   "cell_type": "code",
   "execution_count": 6,
   "metadata": {
    "slideshow": {
     "slide_type": "fragment"
    }
   },
   "outputs": [],
   "source": [
    "mygrn.setup()"
   ]
  },
  {
   "cell_type": "code",
   "execution_count": 7,
   "metadata": {
    "slideshow": {
     "slide_type": "subslide"
    }
   },
   "outputs": [
    {
     "data": {
      "text/plain": [
       "array([0.03571429, 0.03571429, 0.03571429, 0.03571429, 0.03571429,\n",
       "       0.03571429, 0.03571429, 0.03571429, 0.03571429, 0.03571429,\n",
       "       0.03571429, 0.03571429, 0.03571429, 0.03571429, 0.03571429,\n",
       "       0.03571429, 0.03571429, 0.03571429, 0.03571429, 0.03571429,\n",
       "       0.03571429, 0.03571429, 0.03571429, 0.03571429, 0.03571429,\n",
       "       0.03571429, 0.03571429, 0.03571429])"
      ]
     },
     "execution_count": 7,
     "metadata": {},
     "output_type": "execute_result"
    }
   ],
   "source": [
    "mygrn.get_concentrations()"
   ]
  },
  {
   "cell_type": "code",
   "execution_count": 10,
   "metadata": {
    "slideshow": {
     "slide_type": "fragment"
    }
   },
   "outputs": [],
   "source": [
    "mygrn.warmup(8)"
   ]
  },
  {
   "cell_type": "code",
   "execution_count": 11,
   "metadata": {
    "slideshow": {
     "slide_type": "fragment"
    }
   },
   "outputs": [
    {
     "data": {
      "text/plain": [
       "array([0.        , 0.        , 0.        , 0.        , 0.        ,\n",
       "       0.        , 0.        , 0.        , 0.04964484, 0.04971061,\n",
       "       0.05005161, 0.05065879, 0.04937854, 0.05065629, 0.04912968,\n",
       "       0.05039804, 0.04937034, 0.04996643, 0.05061748, 0.05023548,\n",
       "       0.04907626, 0.0502382 , 0.05023209, 0.05080947, 0.05023715,\n",
       "       0.05035322, 0.05023161, 0.04900385])"
      ]
     },
     "execution_count": 11,
     "metadata": {},
     "output_type": "execute_result"
    }
   ],
   "source": [
    "mygrn.get_concentrations()"
   ]
  },
  {
   "cell_type": "code",
   "execution_count": 13,
   "metadata": {
    "slideshow": {
     "slide_type": "subslide"
    }
   },
   "outputs": [
    {
     "data": {
      "text/plain": [
       "<pygrn.grns.classic.ClassicGRN at 0x7f54cc1dc790>"
      ]
     },
     "execution_count": 13,
     "metadata": {},
     "output_type": "execute_result"
    }
   ],
   "source": [
    "mygrn.set_input(np.ones(8))"
   ]
  },
  {
   "cell_type": "code",
   "execution_count": 14,
   "metadata": {
    "slideshow": {
     "slide_type": "fragment"
    }
   },
   "outputs": [
    {
     "data": {
      "text/plain": [
       "array([1.        , 1.        , 1.        , 1.        , 1.        ,\n",
       "       1.        , 1.        , 1.        , 0.04964484, 0.04971061,\n",
       "       0.05005161, 0.05065879, 0.04937854, 0.05065629, 0.04912968,\n",
       "       0.05039804, 0.04937034, 0.04996643, 0.05061748, 0.05023548,\n",
       "       0.04907626, 0.0502382 , 0.05023209, 0.05080947, 0.05023715,\n",
       "       0.05035322, 0.05023161, 0.04900385])"
      ]
     },
     "execution_count": 14,
     "metadata": {},
     "output_type": "execute_result"
    }
   ],
   "source": [
    "mygrn.get_concentrations()"
   ]
  },
  {
   "cell_type": "code",
   "execution_count": 15,
   "metadata": {
    "slideshow": {
     "slide_type": "subslide"
    }
   },
   "outputs": [
    {
     "data": {
      "text/plain": [
       "<pygrn.grns.classic.ClassicGRN at 0x7f54cc1dc790>"
      ]
     },
     "execution_count": 15,
     "metadata": {},
     "output_type": "execute_result"
    }
   ],
   "source": [
    "mygrn.step()"
   ]
  },
  {
   "cell_type": "code",
   "execution_count": 16,
   "metadata": {
    "slideshow": {
     "slide_type": "fragment"
    }
   },
   "outputs": [
    {
     "data": {
      "text/plain": [
       "array([1.        , 1.        , 1.        , 1.        , 1.        ,\n",
       "       1.        , 1.        , 1.        , 0.04975529, 0.0505247 ,\n",
       "       0.04998669, 0.05230409, 0.04952526, 0.04952263, 0.0493714 ,\n",
       "       0.04950842, 0.05026563, 0.04996687, 0.04956308, 0.0497751 ,\n",
       "       0.0501858 , 0.04981234, 0.04983783, 0.04930409, 0.04993843,\n",
       "       0.05172784, 0.04972178, 0.04940274])"
      ]
     },
     "execution_count": 16,
     "metadata": {},
     "output_type": "execute_result"
    }
   ],
   "source": [
    "mygrn.get_concentrations()"
   ]
  },
  {
   "cell_type": "code",
   "execution_count": 25,
   "metadata": {
    "slideshow": {
     "slide_type": "subslide"
    }
   },
   "outputs": [
    {
     "data": {
      "text/plain": [
       "array([1.        , 1.        , 1.        , 1.        , 1.        ,\n",
       "       1.        , 1.        , 1.        , 0.03685603, 0.10470561,\n",
       "       0.00771737, 0.20837875, 0.0424718 , 0.        , 0.05439636,\n",
       "       0.        , 0.1234565 , 0.01865113, 0.        , 0.        ,\n",
       "       0.1593046 , 0.        , 0.        , 0.        , 0.        ,\n",
       "       0.1699493 , 0.        , 0.07411253])"
      ]
     },
     "execution_count": 25,
     "metadata": {},
     "output_type": "execute_result"
    }
   ],
   "source": [
    "steps = 100\n",
    "for _ in range(steps):\n",
    "    mygrn.step()\n",
    "mygrn.get_concentrations()"
   ]
  },
  {
   "cell_type": "code",
   "execution_count": 26,
   "metadata": {
    "scrolled": false,
    "slideshow": {
     "slide_type": "fragment"
    }
   },
   "outputs": [
    {
     "data": {
      "text/plain": [
       "array([0.03685603, 0.10470561, 0.00771737, 0.20837875, 0.0424718 ])"
      ]
     },
     "execution_count": 26,
     "metadata": {},
     "output_type": "execute_result"
    }
   ],
   "source": [
    "mygrn.get_output()"
   ]
  },
  {
   "cell_type": "markdown",
   "metadata": {},
   "source": [
    "Example:"
   ]
  },
  {
   "cell_type": "code",
   "execution_count": 14,
   "metadata": {},
   "outputs": [
    {
     "data": {
      "text/plain": [
       "array([[6, 0, 4, 5, 9, 2, 7, 8, 1, 3],\n",
       "       [0, 8, 3, 4, 9, 5, 2, 7, 1, 6],\n",
       "       [8, 9, 3, 6, 5, 2, 7, 4, 1, 0],\n",
       "       [0, 2, 5, 4, 3, 7, 8, 1, 9, 6],\n",
       "       [6, 0, 8, 2, 5, 1, 7, 4, 3, 9]])"
      ]
     },
     "execution_count": 14,
     "metadata": {},
     "output_type": "execute_result"
    }
   ],
   "source": [
    "%matplotlib inline\n",
    "import matplotlib.pyplot as plt\n",
    "import numpy as np\n",
    "import math\n",
    "\n",
    "n_cities = 10\n",
    "cities = np.random.rand(n_cities, 2)\n",
    "rng = np.random.default_rng()\n",
    "\n",
    "n_population = 100\n",
    "population = np.array([rng.permutation(n_cities) for i in range(n_population)])\n",
    "population[:5]"
   ]
  },
  {
   "cell_type": "code",
   "execution_count": 15,
   "metadata": {},
   "outputs": [],
   "source": [
    "from pygrn import grns\n",
    "GRNcities = grns.ClassicGRN()\n",
    "\n",
    "regulatory = 15\n",
    "cities = []\n",
    "for i in range(10):\n",
    "    cities.append(GRNcities.random(1, n_cities, regulatory))\n",
    "    cities[i].setup()\n",
    "    cities[i].warmup(n_cities)\n",
    "    cities[i].set_input(i)\n",
    "    cities[i].step()"
   ]
  },
  {
   "cell_type": "code",
   "execution_count": 16,
   "metadata": {},
   "outputs": [
    {
     "data": {
      "text/plain": [
       "array([0.2090026 , 0.        , 0.        , 0.08013081, 0.        ,\n",
       "       0.07424633, 0.0858338 , 0.        , 0.        , 0.00558468])"
      ]
     },
     "execution_count": 16,
     "metadata": {},
     "output_type": "execute_result"
    }
   ],
   "source": [
    "cities[9].get_output()"
   ]
  },
  {
   "cell_type": "code",
   "execution_count": 17,
   "metadata": {},
   "outputs": [],
   "source": [
    "def total_distance(order, cities):\n",
    "    t = 0\n",
    "    for i in range(1, len(order)):\n",
    "        t += cities[order[i-1]-1].get_output()[order[i]]\n",
    "    return t"
   ]
  },
  {
   "cell_type": "code",
   "execution_count": 18,
   "metadata": {},
   "outputs": [],
   "source": [
    "def evaluate(population, cities):\n",
    "    fitness = np.zeros(len(population))\n",
    "    for i in range(len(population)):\n",
    "        fitness[i] = total_distance(population[i], cities)\n",
    "    return fitness"
   ]
  },
  {
   "cell_type": "code",
   "execution_count": 22,
   "metadata": {},
   "outputs": [
    {
     "name": "stdout",
     "output_type": "stream",
     "text": [
      "[6 0 4 5 9 2 7 8 1 3] 0.3689644273955067\n",
      "[0 8 3 4 9 5 2 7 1 6] 0.2457956280206296\n",
      "[8 9 3 6 5 2 7 4 1 0] 0.45479823128246877\n",
      "Minimum: \n",
      "[0 1 3 8 2 6 9 4 5 7] 0.24579562802062957\n"
     ]
    }
   ],
   "source": [
    "fitness = evaluate(population, cities)\n",
    "for i in range(3):\n",
    "    print(population[i], fitness[i])\n",
    "print(\"Minimum: \")\n",
    "print(population[np.argmin(fitness)], np.min(fitness))"
   ]
  },
  {
   "cell_type": "code",
   "execution_count": 23,
   "metadata": {},
   "outputs": [
    {
     "data": {
      "image/png": "[encoded data removed]",
      "text/plain": [
       "<Figure size 432x288 with 1 Axes>"
      ]
     },
     "metadata": {
      "needs_background": "light"
     },
     "output_type": "display_data"
    }
   ],
   "source": [
    "def truncation_selection(population, fitness, p=0.2):\n",
    "    n_elites = int(np.floor(len(population) * p))\n",
    "    elites = np.argsort(fitness)[:n_elites]\n",
    "    return population[elites], fitness[elites]\n",
    "\n",
    "elites, efit = truncation_selection(population, fitness)\n",
    "plt.hist(fitness, color='k')\n",
    "plt.hist(efit, color='b');"
   ]
  },
  {
   "cell_type": "code",
   "execution_count": 24,
   "metadata": {},
   "outputs": [],
   "source": [
    "def fp_selection(population, fitness):\n",
    "    p = (np.max(fitness) - fitness)\n",
    "    p /= np.sum(p)\n",
    "    rng = np.random.default_rng()\n",
    "    ind = rng.choice(len(population), p=p)\n",
    "    return population[ind], fitness[ind]"
   ]
  },
  {
   "cell_type": "code",
   "execution_count": 25,
   "metadata": {},
   "outputs": [
    {
     "data": {
      "image/png": "[encoded data removed]",
      "text/plain": [
       "<Figure size 432x288 with 1 Axes>"
      ]
     },
     "metadata": {
      "needs_background": "light"
     },
     "output_type": "display_data"
    }
   ],
   "source": [
    "fp_fits = np.zeros(len(efit))\n",
    "for i in range(len(efit)):\n",
    "    p, f = fp_selection(population, fitness)\n",
    "    fp_fits[i] = f\n",
    "plt.hist(fitness, color='k')\n",
    "plt.hist(efit, color='b')\n",
    "plt.hist(fp_fits, color='r');"
   ]
  },
  {
   "cell_type": "code",
   "execution_count": 26,
   "metadata": {},
   "outputs": [],
   "source": [
    "def tournament_selection(population, fitness, t_size=3):\n",
    "    rng = np.random.default_rng()\n",
    "    tournament = rng.choice(len(population), size=t_size)\n",
    "    ind = tournament[np.argmin(fitness[tournament])]\n",
    "    return population[ind], fitness[ind]"
   ]
  },
  {
   "cell_type": "code",
   "execution_count": 27,
   "metadata": {},
   "outputs": [
    {
     "data": {
      "image/png": "[encoded data removed]",
      "text/plain": [
       "<Figure size 432x288 with 1 Axes>"
      ]
     },
     "metadata": {
      "needs_background": "light"
     },
     "output_type": "display_data"
    }
   ],
   "source": [
    "t_fits = np.zeros(len(efit))\n",
    "for i in range(len(efit)):\n",
    "    p, f = tournament_selection(population, fitness)\n",
    "    t_fits[i] = f\n",
    "plt.hist(fitness, color='k')\n",
    "plt.hist(efit, color='b')\n",
    "plt.hist(fp_fits, color='r')\n",
    "plt.hist(t_fits, color='g');"
   ]
  },
  {
   "cell_type": "code",
   "execution_count": 28,
   "metadata": {},
   "outputs": [],
   "source": [
    "def one_point(p1, p2):\n",
    "    rng = np.random.default_rng()\n",
    "    x = rng.choice(np.arange(1, np.minimum(len(p1)-1, len(p2)-1)))\n",
    "    return np.concatenate((p1[:x], p2[x:])), np.concatenate((p2[:x],p1[x:]))"
   ]
  },
  {
   "cell_type": "code",
   "execution_count": 29,
   "metadata": {
    "scrolled": true
   },
   "outputs": [
    {
     "name": "stdout",
     "output_type": "stream",
     "text": [
      "[3 6 5 4 1 8 7 0 2 9] [6 0 8 2 5 1 7 4 3 9]\n",
      "crossover: \n",
      "[3 0 8 2 5 1 7 4 3 9] [6 6 5 4 1 8 7 0 2 9]\n"
     ]
    }
   ],
   "source": [
    "parent1, _ = tournament_selection(population, fitness)\n",
    "parent2, _ = tournament_selection(population, fitness)\n",
    "print(parent1, parent2)\n",
    "child1, child2 = one_point(parent1, parent2)\n",
    "print(\"crossover: \")\n",
    "print(child1, child2)"
   ]
  },
  {
   "cell_type": "code",
   "execution_count": 30,
   "metadata": {},
   "outputs": [
    {
     "name": "stdout",
     "output_type": "stream",
     "text": [
      "[6 0 4 5 9 2 7 8 1 3] [0 8 3 4 9 5 2 7 1 6]\n"
     ]
    },
    {
     "data": {
      "text/plain": [
       "[1, 6, 0, 8, 3, 4, 5, 9, 2, 7]"
      ]
     },
     "execution_count": 30,
     "metadata": {},
     "output_type": "execute_result"
    }
   ],
   "source": [
    "from pymoo.operators.crossover import edge_recombination_crossover as erc\n",
    "\n",
    "print(population[0], population[1])\n",
    "erc.erx(population[0], population[1])"
   ]
  },
  {
   "cell_type": "code",
   "execution_count": 31,
   "metadata": {},
   "outputs": [],
   "source": [
    "def mutate(ind):    \n",
    "    rng = np.random.default_rng()\n",
    "    x = rng.choice(len(ind))\n",
    "    child = np.copy(ind)\n",
    "    child[x] = ind[x+1]\n",
    "    child[x+1] = ind[x]\n",
    "    return child"
   ]
  },
  {
   "cell_type": "code",
   "execution_count": 32,
   "metadata": {},
   "outputs": [
    {
     "name": "stdout",
     "output_type": "stream",
     "text": [
      "[6 0 4 5 9 2 7 8 1 3] [0 8 3 4 9 5 2 7 1 6]\n",
      "[3, 6, 0, 8, 1, 7, 2, 9, 4, 5]\n"
     ]
    },
    {
     "data": {
      "text/plain": [
       "array([3, 0, 6, 8, 1, 7, 2, 9, 4, 5])"
      ]
     },
     "execution_count": 32,
     "metadata": {},
     "output_type": "execute_result"
    }
   ],
   "source": [
    "print(population[0], population[1])\n",
    "child = erc.erx(population[0], population[1])\n",
    "print(child)\n",
    "mutate(child)"
   ]
  },
  {
   "cell_type": "code",
   "execution_count": 35,
   "metadata": {},
   "outputs": [],
   "source": [
    "def ga_step(population):\n",
    "    fitness = evaluate(population, cities)\n",
    "    next_pop, _ = truncation_selection(population, fitness)\n",
    "    while len(next_pop) < len(population):\n",
    "        parent1, _ = tournament_selection(population, fitness)\n",
    "        parent2, _ = tournament_selection(population, fitness)\n",
    "        child = erc.erx(parent1, parent2)\n",
    "        child = mutate(child)\n",
    "        next_pop = np.concatenate((next_pop, [child]))\n",
    "    return next_pop, fitness"
   ]
  },
  {
   "cell_type": "code",
   "execution_count": 42,
   "metadata": {},
   "outputs": [
    {
     "name": "stdout",
     "output_type": "stream",
     "text": [
      "1000\n"
     ]
    },
    {
     "ename": "IndexError",
     "evalue": "list index out of range",
     "output_type": "error",
     "traceback": [
      "\u001b[0;31m---------------------------------------------------------------------------\u001b[0m",
      "\u001b[0;31mIndexError\u001b[0m                                Traceback (most recent call last)",
      "\u001b[0;32m<ipython-input-42-919a8ef6ff25>\u001b[0m in \u001b[0;36m<module>\u001b[0;34m\u001b[0m\n\u001b[1;32m      3\u001b[0m \u001b[0;32mfor\u001b[0m \u001b[0mi\u001b[0m \u001b[0;32min\u001b[0m \u001b[0mrange\u001b[0m\u001b[0;34m(\u001b[0m\u001b[0mn_gen\u001b[0m\u001b[0;34m)\u001b[0m\u001b[0;34m:\u001b[0m\u001b[0;34m\u001b[0m\u001b[0;34m\u001b[0m\u001b[0m\n\u001b[1;32m      4\u001b[0m     \u001b[0mprint\u001b[0m\u001b[0;34m(\u001b[0m\u001b[0mnp\u001b[0m\u001b[0;34m.\u001b[0m\u001b[0msize\u001b[0m\u001b[0;34m(\u001b[0m\u001b[0mpopulation\u001b[0m\u001b[0;34m)\u001b[0m\u001b[0;34m)\u001b[0m\u001b[0;34m\u001b[0m\u001b[0;34m\u001b[0m\u001b[0m\n\u001b[0;32m----> 5\u001b[0;31m     \u001b[0mpopulation\u001b[0m\u001b[0;34m,\u001b[0m \u001b[0mfitness\u001b[0m \u001b[0;34m=\u001b[0m \u001b[0mga_step\u001b[0m\u001b[0;34m(\u001b[0m\u001b[0mpopulation\u001b[0m\u001b[0;34m)\u001b[0m\u001b[0;34m\u001b[0m\u001b[0;34m\u001b[0m\u001b[0m\n\u001b[0m\u001b[1;32m      6\u001b[0m     \u001b[0mminfit\u001b[0m\u001b[0;34m[\u001b[0m\u001b[0mi\u001b[0m\u001b[0;34m]\u001b[0m \u001b[0;34m=\u001b[0m \u001b[0mnp\u001b[0m\u001b[0;34m.\u001b[0m\u001b[0mmin\u001b[0m\u001b[0;34m(\u001b[0m\u001b[0mfitness\u001b[0m\u001b[0;34m)\u001b[0m\u001b[0;34m\u001b[0m\u001b[0;34m\u001b[0m\u001b[0m\n\u001b[1;32m      7\u001b[0m     \u001b[0;32mif\u001b[0m \u001b[0mi\u001b[0m \u001b[0;34m>\u001b[0m \u001b[0;36m2\u001b[0m \u001b[0;32mand\u001b[0m \u001b[0mminfit\u001b[0m\u001b[0;34m[\u001b[0m\u001b[0mi\u001b[0m\u001b[0;34m]\u001b[0m \u001b[0;34m<\u001b[0m \u001b[0mminfit\u001b[0m\u001b[0;34m[\u001b[0m\u001b[0mi\u001b[0m\u001b[0;34m-\u001b[0m\u001b[0;36m1\u001b[0m\u001b[0;34m]\u001b[0m\u001b[0;34m:\u001b[0m\u001b[0;34m\u001b[0m\u001b[0;34m\u001b[0m\u001b[0m\n",
      "\u001b[0;32m<ipython-input-35-562f023a49e6>\u001b[0m in \u001b[0;36mga_step\u001b[0;34m(population)\u001b[0m\n\u001b[1;32m      6\u001b[0m         \u001b[0mparent2\u001b[0m\u001b[0;34m,\u001b[0m \u001b[0m_\u001b[0m \u001b[0;34m=\u001b[0m \u001b[0mtournament_selection\u001b[0m\u001b[0;34m(\u001b[0m\u001b[0mpopulation\u001b[0m\u001b[0;34m,\u001b[0m \u001b[0mfitness\u001b[0m\u001b[0;34m)\u001b[0m\u001b[0;34m\u001b[0m\u001b[0;34m\u001b[0m\u001b[0m\n\u001b[1;32m      7\u001b[0m         \u001b[0mchild\u001b[0m \u001b[0;34m=\u001b[0m \u001b[0merc\u001b[0m\u001b[0;34m.\u001b[0m\u001b[0merx\u001b[0m\u001b[0;34m(\u001b[0m\u001b[0mparent1\u001b[0m\u001b[0;34m,\u001b[0m \u001b[0mparent2\u001b[0m\u001b[0;34m)\u001b[0m\u001b[0;34m\u001b[0m\u001b[0;34m\u001b[0m\u001b[0m\n\u001b[0;32m----> 8\u001b[0;31m         \u001b[0mchild\u001b[0m \u001b[0;34m=\u001b[0m \u001b[0mmutate\u001b[0m\u001b[0;34m(\u001b[0m\u001b[0mchild\u001b[0m\u001b[0;34m)\u001b[0m\u001b[0;34m\u001b[0m\u001b[0;34m\u001b[0m\u001b[0m\n\u001b[0m\u001b[1;32m      9\u001b[0m         \u001b[0mnext_pop\u001b[0m \u001b[0;34m=\u001b[0m \u001b[0mnp\u001b[0m\u001b[0;34m.\u001b[0m\u001b[0mconcatenate\u001b[0m\u001b[0;34m(\u001b[0m\u001b[0;34m(\u001b[0m\u001b[0mnext_pop\u001b[0m\u001b[0;34m,\u001b[0m \u001b[0;34m[\u001b[0m\u001b[0mchild\u001b[0m\u001b[0;34m]\u001b[0m\u001b[0;34m)\u001b[0m\u001b[0;34m)\u001b[0m\u001b[0;34m\u001b[0m\u001b[0;34m\u001b[0m\u001b[0m\n\u001b[1;32m     10\u001b[0m     \u001b[0;32mreturn\u001b[0m \u001b[0mnext_pop\u001b[0m\u001b[0;34m,\u001b[0m \u001b[0mfitness\u001b[0m\u001b[0;34m\u001b[0m\u001b[0;34m\u001b[0m\u001b[0m\n",
      "\u001b[0;32m<ipython-input-31-caaa333d0f9a>\u001b[0m in \u001b[0;36mmutate\u001b[0;34m(ind)\u001b[0m\n\u001b[1;32m      3\u001b[0m     \u001b[0mx\u001b[0m \u001b[0;34m=\u001b[0m \u001b[0mrng\u001b[0m\u001b[0;34m.\u001b[0m\u001b[0mchoice\u001b[0m\u001b[0;34m(\u001b[0m\u001b[0mlen\u001b[0m\u001b[0;34m(\u001b[0m\u001b[0mind\u001b[0m\u001b[0;34m)\u001b[0m\u001b[0;34m)\u001b[0m\u001b[0;34m\u001b[0m\u001b[0;34m\u001b[0m\u001b[0m\n\u001b[1;32m      4\u001b[0m     \u001b[0mchild\u001b[0m \u001b[0;34m=\u001b[0m \u001b[0mnp\u001b[0m\u001b[0;34m.\u001b[0m\u001b[0mcopy\u001b[0m\u001b[0;34m(\u001b[0m\u001b[0mind\u001b[0m\u001b[0;34m)\u001b[0m\u001b[0;34m\u001b[0m\u001b[0;34m\u001b[0m\u001b[0m\n\u001b[0;32m----> 5\u001b[0;31m     \u001b[0mchild\u001b[0m\u001b[0;34m[\u001b[0m\u001b[0mx\u001b[0m\u001b[0;34m]\u001b[0m \u001b[0;34m=\u001b[0m \u001b[0mind\u001b[0m\u001b[0;34m[\u001b[0m\u001b[0mx\u001b[0m\u001b[0;34m+\u001b[0m\u001b[0;36m1\u001b[0m\u001b[0;34m]\u001b[0m\u001b[0;34m\u001b[0m\u001b[0;34m\u001b[0m\u001b[0m\n\u001b[0m\u001b[1;32m      6\u001b[0m     \u001b[0mchild\u001b[0m\u001b[0;34m[\u001b[0m\u001b[0mx\u001b[0m\u001b[0;34m+\u001b[0m\u001b[0;36m1\u001b[0m\u001b[0;34m]\u001b[0m \u001b[0;34m=\u001b[0m \u001b[0mind\u001b[0m\u001b[0;34m[\u001b[0m\u001b[0mx\u001b[0m\u001b[0;34m]\u001b[0m\u001b[0;34m\u001b[0m\u001b[0;34m\u001b[0m\u001b[0m\n\u001b[1;32m      7\u001b[0m     \u001b[0;32mreturn\u001b[0m \u001b[0mchild\u001b[0m\u001b[0;34m\u001b[0m\u001b[0;34m\u001b[0m\u001b[0m\n",
      "\u001b[0;31mIndexError\u001b[0m: list index out of range"
     ]
    }
   ],
   "source": [
    "n_gen = 100\n",
    "minfit = np.zeros(n_gen)\n",
    "for i in range(n_gen):\n",
    "    print(np.size(population))\n",
    "    population, fitness = ga_step(population)\n",
    "    minfit[i] = np.min(fitness)\n",
    "    if i > 2 and minfit[i] < minfit[i-1]:\n",
    "        print(i, minfit[i])"
   ]
  },
  {
   "cell_type": "markdown",
   "metadata": {
    "id": "Kiw5toMpStBL",
    "slideshow": {
     "slide_type": "slide"
    }
   },
   "source": [
    "# 3. <a id=\"sec3\"></a> Properties of this approach "
   ]
  },
  {
   "cell_type": "markdown",
   "metadata": {
    "id": "DzWg3nFVStBL",
    "slideshow": {
     "slide_type": "subslide"
    }
   },
   "source": [
    "## Experiments"
   ]
  },
  {
   "cell_type": "markdown",
   "metadata": {
    "id": "7RUYF8IWStBL",
    "slideshow": {
     "slide_type": "subslide"
    }
   },
   "source": [
    "### First experiment: <br>\n",
    "Entry parameters: <br>\n",
    "- wind distribution\n",
    "- farm parameters\n",
    "\n",
    "Configuration and tools:<br>\n",
    "- 14km by 7km 2D-flat field\n",
    "- genetic algorithm\n",
    "- wind farm evaluation model\n",
    "\n",
    "Results: The algorithm converges after 4 hours of learning on 128 CPUs, totaling 512 hours"
   ]
  },
  {
   "cell_type": "markdown",
   "metadata": {
    "id": "HOUBpVQIStBL",
    "slideshow": {
     "slide_type": "subslide"
    }
   },
   "source": [
    "<img src=\"img/figure_3.PNG\" width=\"1000px\"></img>"
   ]
  },
  {
   "cell_type": "markdown",
   "metadata": {
    "id": "ybbs-4iHStBL",
    "slideshow": {
     "slide_type": "subslide"
    }
   },
   "source": [
    "Observations: <br>\n",
    "- cells follow development fronts to spread\n",
    "- 3 steps in the development : \n",
    "    1. local zone\n",
    "    2. less efficient cells die\n",
    "    3. optimisation"
   ]
  },
  {
   "cell_type": "markdown",
   "metadata": {
    "id": "_c39xRGGStBL",
    "slideshow": {
     "slide_type": "slide"
    }
   },
   "source": [
    "## Comparison with other approaches"
   ]
  },
  {
   "cell_type": "markdown",
   "metadata": {
    "id": "TeCxGACcStBL",
    "slideshow": {
     "slide_type": "fragment"
    }
   },
   "source": [
    "Introduction of one evaluation tool: the WAKE FREE RATIO <br>\n",
    "    \n",
    "\"Represents usage of the turbines. 100% means that all turbines are running at their theoretical maximum\"\n",
    "\n",
    "<img src=\"img/formule_wake_free_ratio.PNG\" width=\"300px\"></img>"
   ]
  },
  {
   "cell_type": "markdown",
   "metadata": {
    "id": "XK9CAxG2StBL",
    "slideshow": {
     "slide_type": "subslide"
    }
   },
   "source": [
    "<img src=\"img/figure_4.PNG\" width=\"900px\"></img>"
   ]
  },
  {
   "cell_type": "markdown",
   "metadata": {
    "id": "69KZtDiiStBL",
    "scrolled": true,
    "slideshow": {
     "slide_type": "subslide"
    }
   },
   "source": [
    "Observations: <br>\n",
    "- the energy produced increase\n",
    "- periodic diminution of the energy produced "
   ]
  },
  {
   "cell_type": "markdown",
   "metadata": {
    "id": "9YEix8E6StBL",
    "slideshow": {
     "slide_type": "subslide"
    }
   },
   "source": [
    "Comparison with other approaches"
   ]
  },
  {
   "cell_type": "markdown",
   "metadata": {
    "id": "cDj1cKXxStBL",
    "slideshow": {
     "slide_type": "fragment"
    }
   },
   "source": [
    "TDA (Turbine Distribution Algorithm) 200k: <br>\n",
    "- best existing method in the industry \n",
    "- based on randomized modification of turbine location"
   ]
  },
  {
   "cell_type": "markdown",
   "metadata": {
    "id": "RokHqBKCStBL",
    "slideshow": {
     "slide_type": "fragment"
    }
   },
   "source": [
    "Difference between both methods : TDA uses a finite number of turbines"
   ]
  },
  {
   "cell_type": "markdown",
   "metadata": {
    "id": "TiXMsTgIStBL",
    "slideshow": {
     "slide_type": "subslide"
    }
   },
   "source": [
    "<img src=\"img/figure_5.PNG\" width=\"900px\"></img>"
   ]
  },
  {
   "cell_type": "markdown",
   "metadata": {
    "id": "AbLWgqJnStBL",
    "slideshow": {
     "slide_type": "subslide"
    }
   },
   "source": [
    "Observations:<br>\n",
    "- wake free ratio : development algorithm < TDA 200k\n",
    "- computing time : development algortithm >> TDA 200k\n",
    "    \n",
    "Advantage of a reduced computation time: keep the design interactive for humans "
   ]
  },
  {
   "cell_type": "markdown",
   "metadata": {
    "id": "yKEe4kFQStBL",
    "slideshow": {
     "slide_type": "fragment"
    }
   },
   "source": [
    "Other advantages of the developmental method: <br>\n",
    "- Scalability \n",
    "- Avoiding natural obstacles"
   ]
  },
  {
   "cell_type": "markdown",
   "metadata": {
    "id": "VgvWl32VStBL",
    "slideshow": {
     "slide_type": "subslide"
    }
   },
   "source": [
    "<img src=\"img/figure_6.PNG\" width=\"1100px\"></img>"
   ]
  },
  {
   "cell_type": "markdown",
   "metadata": {
    "id": "mdF212wGStBL",
    "slideshow": {
     "slide_type": "subslide"
    }
   },
   "source": [
    "Observations: <br>\n",
    "- Computation time : 15 seconds\n",
    "- Wake free ratio : 81,3%\n",
    "- Turbine row along the lake\n",
    "- One algorithm default : the stop time"
   ]
  },
  {
   "cell_type": "markdown",
   "metadata": {
    "id": "IbmVqdmWStBL",
    "slideshow": {
     "slide_type": "subslide"
    }
   },
   "source": [
    "General conclusions and comparison with TDA approach: <br>\n",
    "- lower wake free ratio \n",
    "- shorter computation time that makes the development model more interactiv and easily adjustable to the environment\n",
    "- one difficulty remains : determine the stop time"
   ]
  },
  {
   "cell_type": "markdown",
   "metadata": {
    "id": "2SaYj6U9StBL",
    "slideshow": {
     "slide_type": "slide"
    }
   },
   "source": [
    "## Scalability of the method "
   ]
  },
  {
   "cell_type": "markdown",
   "metadata": {
    "id": "mmSOTyCDStBL",
    "slideshow": {
     "slide_type": "fragment"
    }
   },
   "source": [
    "We use the same trained cell in three differents environments "
   ]
  },
  {
   "cell_type": "markdown",
   "metadata": {
    "id": "65H1zjPgStBL",
    "slideshow": {
     "slide_type": "subslide"
    }
   },
   "source": [
    "<img src=\"img/imgscalability1.png\" width=\"1000px\"></img>"
   ]
  },
  {
   "cell_type": "markdown",
   "metadata": {
    "id": "upySeebRStBL",
    "slideshow": {
     "slide_type": "subslide"
    }
   },
   "source": [
    "<img src=\"img/imgscalability2.png\" width=\"1100px\"></img>"
   ]
  },
  {
   "cell_type": "markdown",
   "metadata": {
    "id": "6nQGFwyBStBL",
    "slideshow": {
     "slide_type": "slide"
    }
   },
   "source": [
    "#  <a id=\"sec4\"></a> Conclusion "
   ]
  },
  {
   "cell_type": "code",
   "execution_count": null,
   "metadata": {},
   "outputs": [],
   "source": []
  }
 ],
 "metadata": {
  "celltoolbar": "Slideshow",
  "colab": {
   "name": "pres.ipynb",
   "provenance": []
  },
  "kernelspec": {
   "display_name": "Python 3",
   "language": "python",
   "name": "python3"
  },
  "language_info": {
   "codemirror_mode": {
    "name": "ipython",
    "version": 3
   },
   "file_extension": ".py",
   "mimetype": "text/x-python",
   "name": "python",
   "nbconvert_exporter": "python",
   "pygments_lexer": "ipython3",
   "version": "3.8.5"
  }
 },
 "nbformat": 4,
 "nbformat_minor": 1
}
