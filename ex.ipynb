{
 "cells": [
  {
   "cell_type": "code",
   "execution_count": 1,
   "metadata": {},
   "outputs": [
    {
     "ename": "ModuleNotFoundError",
     "evalue": "No module named 'pygrn'",
     "output_type": "error",
     "traceback": [
      "\u001b[1;31m---------------------------------------------------------------------------\u001b[0m",
      "\u001b[1;31mModuleNotFoundError\u001b[0m                       Traceback (most recent call last)",
      "\u001b[1;32m<ipython-input-1-1c1a58921448>\u001b[0m in \u001b[0;36m<module>\u001b[1;34m\u001b[0m\n\u001b[0;32m      1\u001b[0m \u001b[1;32mimport\u001b[0m \u001b[0mnumpy\u001b[0m \u001b[1;32mas\u001b[0m \u001b[0mnp\u001b[0m\u001b[1;33m\u001b[0m\u001b[1;33m\u001b[0m\u001b[0m\n\u001b[1;32m----> 2\u001b[1;33m \u001b[1;32mfrom\u001b[0m \u001b[0mpygrn\u001b[0m \u001b[1;32mimport\u001b[0m \u001b[0mgrns\u001b[0m\u001b[1;33m\u001b[0m\u001b[1;33m\u001b[0m\u001b[0m\n\u001b[0m",
      "\u001b[1;31mModuleNotFoundError\u001b[0m: No module named 'pygrn'"
     ]
    }
   ],
   "source": [
    "import numpy as np\n",
    "from pygrn import grns"
   ]
  },
  {
   "cell_type": "code",
   "execution_count": null,
   "metadata": {},
   "outputs": [],
   "source": [
    "grn = grns.ClassicGRN()"
   ]
  },
  {
   "cell_type": "code",
   "execution_count": null,
   "metadata": {},
   "outputs": [],
   "source": [
    "grn.random(5, 2, 4) # 5 entrees, 2 sorties, 4 protein regulatoire"
   ]
  },
  {
   "cell_type": "code",
   "execution_count": 2,
   "metadata": {},
   "outputs": [
    {
     "ename": "NameError",
     "evalue": "name 'grn' is not defined",
     "output_type": "error",
     "traceback": [
      "\u001b[1;31m---------------------------------------------------------------------------\u001b[0m",
      "\u001b[1;31mNameError\u001b[0m                                 Traceback (most recent call last)",
      "\u001b[1;32m<ipython-input-2-1057c4e64c9e>\u001b[0m in \u001b[0;36m<module>\u001b[1;34m\u001b[0m\n\u001b[1;32m----> 1\u001b[1;33m \u001b[0mhelp\u001b[0m\u001b[1;33m(\u001b[0m\u001b[0mgrn\u001b[0m\u001b[1;33m.\u001b[0m\u001b[0mrandom\u001b[0m\u001b[1;33m)\u001b[0m\u001b[1;33m\u001b[0m\u001b[1;33m\u001b[0m\u001b[0m\n\u001b[0m",
      "\u001b[1;31mNameError\u001b[0m: name 'grn' is not defined"
     ]
    }
   ],
   "source": [
    "help(grn.random)"
   ]
  },
  {
   "cell_type": "code",
   "execution_count": 12,
   "metadata": {},
   "outputs": [],
   "source": [
    "grn.setup()"
   ]
  },
  {
   "cell_type": "code",
   "execution_count": 13,
   "metadata": {},
   "outputs": [
    {
     "data": {
      "text/plain": [
       "array([0.09090909, 0.09090909, 0.09090909, 0.09090909, 0.09090909,\n",
       "       0.09090909, 0.09090909, 0.09090909, 0.09090909, 0.09090909,\n",
       "       0.09090909])"
      ]
     },
     "execution_count": 13,
     "metadata": {},
     "output_type": "execute_result"
    }
   ],
   "source": [
    "grn.get_concentrations() # 1/nombre proteins"
   ]
  },
  {
   "cell_type": "code",
   "execution_count": 14,
   "metadata": {},
   "outputs": [],
   "source": [
    "grn.warmup(5) # step avec les concentrations initiales"
   ]
  },
  {
   "cell_type": "code",
   "execution_count": 15,
   "metadata": {},
   "outputs": [
    {
     "name": "stdout",
     "output_type": "stream",
     "text": [
      "Help on method warmup in module pygrn.grns.classic:\n",
      "\n",
      "warmup(nsteps) method of pygrn.grns.classic.ClassicGRN instance\n",
      "\n"
     ]
    }
   ],
   "source": [
    "help(grn.warmup)"
   ]
  },
  {
   "cell_type": "code",
   "execution_count": 7,
   "metadata": {},
   "outputs": [
    {
     "data": {
      "text/plain": [
       "array([0.        , 0.        , 0.        , 0.        , 0.        ,\n",
       "       0.20726613, 0.36141789, 0.00717035, 0.05408977, 0.21917979,\n",
       "       0.15087606])"
      ]
     },
     "execution_count": 7,
     "metadata": {},
     "output_type": "execute_result"
    }
   ],
   "source": [
    "grn.get_concentrations()"
   ]
  },
  {
   "cell_type": "code",
   "execution_count": 8,
   "metadata": {},
   "outputs": [],
   "source": [
    "import numpy as np"
   ]
  },
  {
   "cell_type": "code",
   "execution_count": 9,
   "metadata": {},
   "outputs": [
    {
     "data": {
      "text/plain": [
       "<pygrn.grns.classic.ClassicGRN at 0x7fd4af6c6520>"
      ]
     },
     "execution_count": 9,
     "metadata": {},
     "output_type": "execute_result"
    }
   ],
   "source": [
    "grn.set_input(np.ones(5)) # entree = [1, 1, 1, 1, 1]"
   ]
  },
  {
   "cell_type": "code",
   "execution_count": 10,
   "metadata": {},
   "outputs": [
    {
     "data": {
      "text/plain": [
       "<pygrn.grns.classic.ClassicGRN at 0x7fd4af6c6520>"
      ]
     },
     "execution_count": 10,
     "metadata": {},
     "output_type": "execute_result"
    }
   ],
   "source": [
    "grn.step()"
   ]
  },
  {
   "cell_type": "code",
   "execution_count": 11,
   "metadata": {},
   "outputs": [
    {
     "data": {
      "text/plain": [
       "array([1.        , 1.        , 1.        , 1.        , 1.        ,\n",
       "       0.20811996, 0.21307006, 0.07997814, 0.10772013, 0.21518757,\n",
       "       0.17592415])"
      ]
     },
     "execution_count": 11,
     "metadata": {},
     "output_type": "execute_result"
    }
   ],
   "source": [
    "grn.get_concentrations()"
   ]
  },
  {
   "cell_type": "code",
   "execution_count": 12,
   "metadata": {},
   "outputs": [
    {
     "data": {
      "text/plain": [
       "<pygrn.grns.classic.ClassicGRN at 0x7fd4af6c6520>"
      ]
     },
     "execution_count": 12,
     "metadata": {},
     "output_type": "execute_result"
    }
   ],
   "source": [
    "grn.set_input(np.zeros(5))"
   ]
  },
  {
   "cell_type": "code",
   "execution_count": 13,
   "metadata": {},
   "outputs": [
    {
     "data": {
      "text/plain": [
       "array([0.        , 0.        , 0.        , 0.        , 0.        ,\n",
       "       0.20811996, 0.21307006, 0.07997814, 0.10772013, 0.21518757,\n",
       "       0.17592415])"
      ]
     },
     "execution_count": 13,
     "metadata": {},
     "output_type": "execute_result"
    }
   ],
   "source": [
    "grn.get_concentrations() # pas encore changé les concentrations regulatoires"
   ]
  },
  {
   "cell_type": "code",
   "execution_count": 14,
   "metadata": {},
   "outputs": [
    {
     "data": {
      "text/plain": [
       "<pygrn.grns.classic.ClassicGRN at 0x7fd4af6c6520>"
      ]
     },
     "execution_count": 14,
     "metadata": {},
     "output_type": "execute_result"
    }
   ],
   "source": [
    "grn.step()"
   ]
  },
  {
   "cell_type": "code",
   "execution_count": 15,
   "metadata": {},
   "outputs": [
    {
     "data": {
      "text/plain": [
       "array([0.        , 0.        , 0.        , 0.        , 0.        ,\n",
       "       0.21731806, 0.25230947, 0.0457181 , 0.08436079, 0.22657475,\n",
       "       0.17371882])"
      ]
     },
     "execution_count": 15,
     "metadata": {},
     "output_type": "execute_result"
    }
   ],
   "source": [
    "grn.get_concentrations() # apres entrees de 0"
   ]
  },
  {
   "cell_type": "code",
   "execution_count": null,
   "metadata": {},
   "outputs": [],
   "source": []
  },
  {
   "cell_type": "code",
   "execution_count": null,
   "metadata": {},
   "outputs": [],
   "source": []
  },
  {
   "cell_type": "code",
   "execution_count": 22,
   "metadata": {},
   "outputs": [],
   "source": [
    "import math\n",
    "import numpy as np\n",
    "import matplotlib.pyplot as plt\n",
    "%matplotlib inline\n",
    "\n",
    "from pygrn import grns"
   ]
  },
  {
   "cell_type": "code",
   "execution_count": 2,
   "metadata": {},
   "outputs": [],
   "source": [
    "mygrn = grns.ClassicGRN()"
   ]
  },
  {
   "cell_type": "code",
   "execution_count": 3,
   "metadata": {},
   "outputs": [
    {
     "data": {
      "text/plain": [
       "<pygrn.grns.classic.ClassicGRN at 0x7f7094508e50>"
      ]
     },
     "execution_count": 3,
     "metadata": {},
     "output_type": "execute_result"
    }
   ],
   "source": [
    "mygrn.random(8, 5, 15)"
   ]
  },
  {
   "cell_type": "code",
   "execution_count": 4,
   "metadata": {},
   "outputs": [],
   "source": [
    "mygrn.setup()"
   ]
  },
  {
   "cell_type": "code",
   "execution_count": 5,
   "metadata": {},
   "outputs": [
    {
     "data": {
      "text/plain": [
       "array([0.03571429, 0.03571429, 0.03571429, 0.03571429, 0.03571429,\n",
       "       0.03571429, 0.03571429, 0.03571429, 0.03571429, 0.03571429,\n",
       "       0.03571429, 0.03571429, 0.03571429, 0.03571429, 0.03571429,\n",
       "       0.03571429, 0.03571429, 0.03571429, 0.03571429, 0.03571429,\n",
       "       0.03571429, 0.03571429, 0.03571429, 0.03571429, 0.03571429,\n",
       "       0.03571429, 0.03571429, 0.03571429])"
      ]
     },
     "execution_count": 5,
     "metadata": {},
     "output_type": "execute_result"
    }
   ],
   "source": [
    "mygrn.get_concentrations()"
   ]
  },
  {
   "cell_type": "code",
   "execution_count": 6,
   "metadata": {},
   "outputs": [],
   "source": [
    "mygrn.warmup(5)"
   ]
  },
  {
   "cell_type": "code",
   "execution_count": 7,
   "metadata": {},
   "outputs": [
    {
     "data": {
      "text/plain": [
       "array([0.        , 0.        , 0.        , 0.        , 0.        ,\n",
       "       0.        , 0.        , 0.        , 0.01866844, 0.06374277,\n",
       "       0.01586422, 0.07412639, 0.06340896, 0.03817325, 0.05967431,\n",
       "       0.06694705, 0.04483003, 0.06478141, 0.0159617 , 0.06323062,\n",
       "       0.06566678, 0.05090727, 0.07186963, 0.06960864, 0.01541597,\n",
       "       0.02267525, 0.04171499, 0.07273233])"
      ]
     },
     "execution_count": 7,
     "metadata": {},
     "output_type": "execute_result"
    }
   ],
   "source": [
    "mygrn.get_concentrations()"
   ]
  },
  {
   "cell_type": "code",
   "execution_count": 10,
   "metadata": {},
   "outputs": [
    {
     "data": {
      "text/plain": [
       "<pygrn.grns.classic.ClassicGRN at 0x7f7094508e50>"
      ]
     },
     "execution_count": 10,
     "metadata": {},
     "output_type": "execute_result"
    }
   ],
   "source": [
    "mygrn.set_input(np.ones(8))"
   ]
  },
  {
   "cell_type": "code",
   "execution_count": 11,
   "metadata": {},
   "outputs": [
    {
     "data": {
      "text/plain": [
       "array([1.        , 1.        , 1.        , 1.        , 1.        ,\n",
       "       1.        , 1.        , 1.        , 0.01866844, 0.06374277,\n",
       "       0.01586422, 0.07412639, 0.06340896, 0.03817325, 0.05967431,\n",
       "       0.06694705, 0.04483003, 0.06478141, 0.0159617 , 0.06323062,\n",
       "       0.06566678, 0.05090727, 0.07186963, 0.06960864, 0.01541597,\n",
       "       0.02267525, 0.04171499, 0.07273233])"
      ]
     },
     "execution_count": 11,
     "metadata": {},
     "output_type": "execute_result"
    }
   ],
   "source": [
    "mygrn.get_concentrations()"
   ]
  },
  {
   "cell_type": "code",
   "execution_count": 13,
   "metadata": {},
   "outputs": [
    {
     "data": {
      "text/plain": [
       "<pygrn.grns.classic.ClassicGRN at 0x7f7094508e50>"
      ]
     },
     "execution_count": 13,
     "metadata": {},
     "output_type": "execute_result"
    }
   ],
   "source": [
    "mygrn.step()"
   ]
  },
  {
   "cell_type": "code",
   "execution_count": 14,
   "metadata": {},
   "outputs": [
    {
     "data": {
      "text/plain": [
       "array([1.        , 1.        , 1.        , 1.        , 1.        ,\n",
       "       1.        , 1.        , 1.        , 0.07711352, 0.02580929,\n",
       "       0.0255965 , 0.04375913, 0.03286195, 0.1044777 , 0.07004251,\n",
       "       0.00626117, 0.09735943, 0.01399964, 0.07073802, 0.02202168,\n",
       "       0.00697566, 0.08687434, 0.04781421, 0.01753017, 0.02540432,\n",
       "       0.08890552, 0.10458786, 0.03186738])"
      ]
     },
     "execution_count": 14,
     "metadata": {},
     "output_type": "execute_result"
    }
   ],
   "source": [
    "mygrn.get_concentrations()"
   ]
  },
  {
   "cell_type": "code",
   "execution_count": 15,
   "metadata": {},
   "outputs": [
    {
     "data": {
      "text/plain": [
       "<pygrn.grns.classic.ClassicGRN at 0x7f7094508e50>"
      ]
     },
     "execution_count": 15,
     "metadata": {},
     "output_type": "execute_result"
    }
   ],
   "source": [
    "mygrn.step()"
   ]
  },
  {
   "cell_type": "code",
   "execution_count": 16,
   "metadata": {},
   "outputs": [
    {
     "data": {
      "text/plain": [
       "array([1.        , 1.        , 1.        , 1.        , 1.        ,\n",
       "       1.        , 1.        , 1.        , 0.10983569, 0.        ,\n",
       "       0.0271967 , 0.01459219, 0.00428726, 0.13993803, 0.06735298,\n",
       "       0.        , 0.12282197, 0.        , 0.10022275, 0.        ,\n",
       "       0.        , 0.10212126, 0.02307378, 0.        , 0.02547194,\n",
       "       0.12498271, 0.13810274, 0.        ])"
      ]
     },
     "execution_count": 16,
     "metadata": {},
     "output_type": "execute_result"
    }
   ],
   "source": [
    "mygrn.get_concentrations()"
   ]
  },
  {
   "cell_type": "code",
   "execution_count": 17,
   "metadata": {},
   "outputs": [
    {
     "data": {
      "text/plain": [
       "array([1.        , 1.        , 1.        , 1.        , 1.        ,\n",
       "       1.        , 1.        , 1.        , 0.13261013, 0.        ,\n",
       "       0.01007431, 0.        , 0.        , 0.16169794, 0.03786525,\n",
       "       0.        , 0.13125499, 0.        , 0.11805081, 0.        ,\n",
       "       0.        , 0.09854105, 0.        , 0.        , 0.0036499 ,\n",
       "       0.14828023, 0.1579754 , 0.        ])"
      ]
     },
     "execution_count": 17,
     "metadata": {},
     "output_type": "execute_result"
    }
   ],
   "source": [
    "steps = 100\n",
    "for _ in range(steps):\n",
    "    mygrn.step()\n",
    "mygrn.get_concentrations()"
   ]
  },
  {
   "cell_type": "code",
   "execution_count": 20,
   "metadata": {},
   "outputs": [
    {
     "data": {
      "text/plain": [
       "array([0.13261013, 0.        , 0.01007431, 0.        , 0.        ])"
      ]
     },
     "execution_count": 20,
     "metadata": {},
     "output_type": "execute_result"
    }
   ],
   "source": [
    "mygrn.get_output()"
   ]
  },
  {
   "cell_type": "code",
   "execution_count": 21,
   "metadata": {},
   "outputs": [
    {
     "name": "stdout",
     "output_type": "stream",
     "text": [
      "Help on ClassicGRN in module pygrn.grns.classic object:\n",
      "\n",
      "class ClassicGRN(pygrn.grns.base.GRN)\n",
      " |  Classic CPU-based GRN\n",
      " |  \n",
      " |  Dynamics equations are written mostly in loop form\n",
      " |  \n",
      " |  Method resolution order:\n",
      " |      ClassicGRN\n",
      " |      pygrn.grns.base.GRN\n",
      " |      abc.ABC\n",
      " |      builtins.object\n",
      " |  \n",
      " |  Methods defined here:\n",
      " |  \n",
      " |  __init__(self)\n",
      " |      Initialize self.  See help(type(self)) for accurate signature.\n",
      " |  \n",
      " |  clone(self)\n",
      " |      Creates a new GRN of the same type as the subclass\n",
      " |      \n",
      " |      Must safely pass all necessary genomic data and setup the new GRN\n",
      " |  \n",
      " |  get_concentrations(self)\n",
      " |  \n",
      " |  get_output(self)\n",
      " |      Outputs a numpy array of concentrations of the output proteins\n",
      " |  \n",
      " |  get_signatures(self)\n",
      " |  \n",
      " |  reset(self)\n",
      " |      Resets concentrations and any other state variables\n",
      " |  \n",
      " |  set_input(self, inputs)\n",
      " |      Set the concentration of input GRNs to the provided array\n",
      " |      \n",
      " |      Requires that the input numpy array is bounded in [0, 1]\n",
      " |  \n",
      " |  setup(self)\n",
      " |      Calculates signatures and sets initial concentrations\n",
      " |      \n",
      " |      Requires that all genome variables have been set (inhibitors,\n",
      " |      enhancers, identifiers,num_input, num_output, num_regulatory)\n",
      " |  \n",
      " |  step(self)\n",
      " |      Runs the GRN concentration update\n",
      " |  \n",
      " |  warmup(self, nsteps)\n",
      " |  \n",
      " |  ----------------------------------------------------------------------\n",
      " |  Data and other attributes defined here:\n",
      " |  \n",
      " |  __abstractmethods__ = frozenset()\n",
      " |  \n",
      " |  concentration = []\n",
      " |  \n",
      " |  enhance_match = []\n",
      " |  \n",
      " |  inhibit_match = []\n",
      " |  \n",
      " |  next_concentration = []\n",
      " |  \n",
      " |  ----------------------------------------------------------------------\n",
      " |  Methods inherited from pygrn.grns.base.GRN:\n",
      " |  \n",
      " |  __str__(self)\n",
      " |      Return str(self).\n",
      " |  \n",
      " |  distance_to(self, other)\n",
      " |      Returns the distance\n",
      " |  \n",
      " |  from_str(self, grn_str)\n",
      " |  \n",
      " |  get_dt(self)\n",
      " |  \n",
      " |  protein_distance(self, other, k, j)\n",
      " |  \n",
      " |  random(self, num_input, num_output, num_regulatory)\n",
      " |      Sets the GRNs genome data randomly based on input sizes\n",
      " |  \n",
      " |  size(self)\n",
      " |  \n",
      " |  ----------------------------------------------------------------------\n",
      " |  Data descriptors inherited from pygrn.grns.base.GRN:\n",
      " |  \n",
      " |  __dict__\n",
      " |      dictionary for instance variables (if defined)\n",
      " |  \n",
      " |  __weakref__\n",
      " |      list of weak references to the object (if defined)\n",
      " |  \n",
      " |  ----------------------------------------------------------------------\n",
      " |  Data and other attributes inherited from pygrn.grns.base.GRN:\n",
      " |  \n",
      " |  beta = 0.5\n",
      " |  \n",
      " |  delta = 0.5\n",
      " |  \n",
      " |  dt = 1\n",
      " |  \n",
      " |  enhancers = []\n",
      " |  \n",
      " |  identifiers = []\n",
      " |  \n",
      " |  inhibitors = []\n",
      " |  \n",
      " |  num_input = 0\n",
      " |  \n",
      " |  num_output = 0\n",
      " |  \n",
      " |  num_regulatory = 0\n",
      "\n"
     ]
    }
   ],
   "source": [
    "help(mygrn)"
   ]
  },
  {
   "cell_type": "code",
   "execution_count": null,
   "metadata": {},
   "outputs": [],
   "source": []
  },
  {
   "cell_type": "code",
   "execution_count": 23,
   "metadata": {},
   "outputs": [],
   "source": [
    "n_cities = 10\n",
    "cities = np.random.rand(n_cities, 2)\n",
    "rng = np.random.default_rng()"
   ]
  },
  {
   "cell_type": "code",
   "execution_count": 24,
   "metadata": {},
   "outputs": [
    {
     "name": "stdout",
     "output_type": "stream",
     "text": [
      "[5 9 7 4 1 6 0 3 8 2]\n",
      "[8 2 9 6 3 0 7 4 5 1]\n"
     ]
    }
   ],
   "source": [
    "order0 = rng.permutation(n_cities)\n",
    "order1 = rng.permutation(n_cities)\n",
    "print(order0)\n",
    "print(order1)"
   ]
  },
  {
   "cell_type": "code",
   "execution_count": 25,
   "metadata": {},
   "outputs": [
    {
     "data": {
      "image/png": "[encoded data removed]",
      "text/plain": [
       "<Figure size 1008x288 with 2 Axes>"
      ]
     },
     "metadata": {
      "needs_background": "light"
     },
     "output_type": "display_data"
    }
   ],
   "source": [
    "fig = plt.figure(figsize=(14, 4))\n",
    "ax = plt.subplot(1, 2, 1)\n",
    "ind = order0\n",
    "plt.title(\"Order 0\")\n",
    "ax.scatter(cities[ind, 0], cities[ind, 1])\n",
    "ax.plot(cities[ind, 0], cities[ind, 1], 'k')\n",
    "for i in range(n_cities):\n",
    "    ax.annotate(i, (cities[ind[i], 0]+0.01, cities[ind[i], 1]+0.01), c='g')\n",
    "ax = plt.subplot(1, 2, 2)\n",
    "ind = order1\n",
    "plt.title(\"Order 1\")\n",
    "ax.scatter(cities[ind, 0], cities[ind, 1])\n",
    "ax.plot(cities[ind, 0], cities[ind, 1], 'k')\n",
    "for i in range(n_cities):\n",
    "    ax.annotate(i, (cities[ind[i], 0]+0.01, cities[ind[i], 1]+0.01), c='g')"
   ]
  },
  {
   "cell_type": "code",
   "execution_count": 26,
   "metadata": {},
   "outputs": [
    {
     "data": {
      "text/plain": [
       "array([[4, 2, 7, 9, 6, 8, 0, 3, 5, 1],\n",
       "       [9, 1, 6, 3, 7, 5, 8, 4, 2, 0],\n",
       "       [0, 4, 3, 9, 8, 6, 5, 1, 2, 7],\n",
       "       [1, 2, 8, 6, 9, 7, 5, 3, 0, 4],\n",
       "       [6, 5, 4, 2, 7, 1, 0, 9, 8, 3]])"
      ]
     },
     "execution_count": 26,
     "metadata": {},
     "output_type": "execute_result"
    }
   ],
   "source": [
    "n_population = 100\n",
    "population = np.array([rng.permutation(n_cities) for i in range(n_population)])\n",
    "population[:5]"
   ]
  },
  {
   "cell_type": "code",
   "execution_count": 29,
   "metadata": {},
   "outputs": [],
   "source": [
    "mygrn2 = grns.ClassicGRN()\n",
    "regulatory = 20\n",
    "mygrn2.random(n_population, 1, regulatory)\n",
    "mygrn2.setup()\n",
    "mygrn2.warmup(5)\n",
    "mygrn2.set_inputs()\n",
    "mygrn2.step()\n",
    "mygnr2.get_outputs()"
   ]
  },
  {
   "cell_type": "code",
   "execution_count": null,
   "metadata": {},
   "outputs": [],
   "source": []
  },
  {
   "cell_type": "code",
   "execution_count": null,
   "metadata": {},
   "outputs": [],
   "source": []
  },
  {
   "cell_type": "code",
   "execution_count": null,
   "metadata": {},
   "outputs": [],
   "source": []
  },
  {
   "cell_type": "code",
   "execution_count": null,
   "metadata": {},
   "outputs": [],
   "source": []
  },
  {
   "cell_type": "code",
   "execution_count": null,
   "metadata": {},
   "outputs": [],
   "source": []
  },
  {
   "cell_type": "code",
   "execution_count": null,
   "metadata": {},
   "outputs": [],
   "source": [
    "def total_distance(order, distances):\n",
    "    t = 0\n",
    "    for i in range(1, len(order)):\n",
    "        t += distances[order[i-1], order[i]]\n",
    "    return t"
   ]
  },
  {
   "cell_type": "code",
   "execution_count": 6,
   "metadata": {},
   "outputs": [],
   "source": [
    "def evaluate(population, distances):\n",
    "    fitness = np.zeros(len(population))\n",
    "    for i in range(len(population)):\n",
    "        fitness[i] = total_distance(population[i], distances)\n",
    "    return fitness"
   ]
  },
  {
   "cell_type": "code",
   "execution_count": 7,
   "metadata": {},
   "outputs": [],
   "source": [
    "def truncation_selection(population, fitness, p=0.2):\n",
    "    n_elites = int(np.floor(len(population) * p))\n",
    "    elites = np.argsort(fitness)[:n_elites]\n",
    "    return population[elites], fitness[elites]\n",
    "\n",
    "def tournament_selection(population, fitness, t_size=3):\n",
    "    rng = np.random.default_rng()\n",
    "    tournament = rng.choice(len(population), size=t_size)\n",
    "    ind = tournament[np.argmin(fitness[tournament])]\n",
    "    return population[ind], fitness[ind]"
   ]
  },
  {
   "cell_type": "code",
   "execution_count": null,
   "metadata": {},
   "outputs": [],
   "source": [
    "# def crossover(p1, p2):\n",
    "    # rng = np.random.default_rng()\n",
    "    # x = rng.choice(np.arange(1, np.minimum(len(p1)-1, len(p2)-1)))\n",
    "    # return np.concatenate((p1[:x], p2[x:])), np.concatenate((p2[:x],p1[x:]))\n",
    "    \n",
    "from pymoo.operators.crossover import edge_recombination_crossover as erc\n",
    "\n",
    "def crossover(ind1, ind2):\n",
    "    return(erc.erx(ind1, ind2))"
   ]
  },
  {
   "cell_type": "code",
   "execution_count": null,
   "metadata": {},
   "outputs": [],
   "source": [
    "def mutate(ind):\n",
    "    rng = np.random.default_rng()\n",
    "    x = rng.choice(len(ind)-1)\n",
    "    child = np.copy(ind)\n",
    "    child[x] = ind[x+1]\n",
    "    child[x+1] = ind[x]\n",
    "    return child"
   ]
  },
  {
   "cell_type": "code",
   "execution_count": null,
   "metadata": {},
   "outputs": [],
   "source": [
    "def ga_step(population):\n",
    "    fitness = evaluate(population, d)\n",
    "    next_pop, _ = truncation_selection(population, fitness)\n",
    "    while len(next_pop) < len(population):\n",
    "        parent1, _ = tournament_selection(population, fitness)\n",
    "        parent2, _ = tournament_selection(population, fitness)\n",
    "        child = erc.erx(parent1, parent2)\n",
    "        child = mutate(child)\n",
    "        next_pop = np.concatenate((next_pop, [child]))\n",
    "    return next_pop, fitness"
   ]
  },
  {
   "cell_type": "code",
   "execution_count": null,
   "metadata": {},
   "outputs": [],
   "source": []
  },
  {
   "cell_type": "code",
   "execution_count": null,
   "metadata": {},
   "outputs": [],
   "source": []
  },
  {
   "cell_type": "code",
   "execution_count": null,
   "metadata": {},
   "outputs": [],
   "source": []
  },
  {
   "cell_type": "code",
   "execution_count": 30,
   "metadata": {},
   "outputs": [],
   "source": [
    "def himmelblau(x, y):\n",
    "    return (x**2 + y - 11)**2 + (x + y**2 - 7)**2"
   ]
  },
  {
   "cell_type": "code",
   "execution_count": 31,
   "metadata": {},
   "outputs": [],
   "source": [
    "mygrn2 = grns.ClassicGRN()\n",
    "mygrn2.random(8, 5, 15)\n",
    "mygrn2.setup()\n",
    "mygrn2.warmup(5)\n",
    "mygrn2.set_inputs()\n",
    "mygrn2.step()\n",
    "mygnr2.get_outputs()"
   ]
  },
  {
   "cell_type": "code",
   "execution_count": null,
   "metadata": {},
   "outputs": [],
   "source": []
  }
 ],
 "metadata": {
  "kernelspec": {
   "display_name": "Python 3",
   "language": "python",
   "name": "python3"
  },
  "language_info": {
   "codemirror_mode": {
    "name": "ipython",
    "version": 3
   },
   "file_extension": ".py",
   "mimetype": "text/x-python",
   "name": "python",
   "nbconvert_exporter": "python",
   "pygments_lexer": "ipython3",
   "version": "3.8.5"
  }
 },
 "nbformat": 4,
 "nbformat_minor": 4
}
